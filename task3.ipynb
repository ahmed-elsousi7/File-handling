{
 "cells": [
  {
   "cell_type": "markdown",
   "id": "115c59dd",
   "metadata": {},
   "source": [
    "  ## File handling\n",
    "  ### with using *args vs **kwargs\n",
    "  to save personal info inside a text file."
   ]
  },
  {
   "cell_type": "code",
   "execution_count": 17,
   "id": "4591d1ed",
   "metadata": {},
   "outputs": [],
   "source": [
    "def personal(**employee):\n",
    "    with open(\"E:\\\\file1.txt\",\"w\") as f:\n",
    "        f.writelines(employee.values())  \n",
    "personal( fn = \"Ahmed\\n\" , ln = \"Elsousi\\n\" , gender = \"male\\n\" , ID = '123\\n' )"
   ]
  },
  {
   "cell_type": "code",
   "execution_count": 23,
   "id": "c7173cc9",
   "metadata": {},
   "outputs": [],
   "source": [
    "def personal (*employee):\n",
    "    with open(\"E:\\\\file1.txt\",\"w\") as f :\n",
    "        f.writelines(employee)\n",
    "personal(\"Ahmed\\n\",\"Elsousi\\n\",\"male\\n\",\"123\\n\")"
   ]
  },
  {
   "cell_type": "code",
   "execution_count": null,
   "id": "bf45f9ee",
   "metadata": {},
   "outputs": [],
   "source": []
  }
 ],
 "metadata": {
  "kernelspec": {
   "display_name": "Python 3 (ipykernel)",
   "language": "python",
   "name": "python3"
  },
  "language_info": {
   "codemirror_mode": {
    "name": "ipython",
    "version": 3
   },
   "file_extension": ".py",
   "mimetype": "text/x-python",
   "name": "python",
   "nbconvert_exporter": "python",
   "pygments_lexer": "ipython3",
   "version": "3.9.7"
  }
 },
 "nbformat": 4,
 "nbformat_minor": 5
}
