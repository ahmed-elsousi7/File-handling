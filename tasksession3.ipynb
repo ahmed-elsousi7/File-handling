{
 "cells": [
  {
   "cell_type": "code",
   "execution_count": null,
   "id": "783ad0fc",
   "metadata": {},
   "outputs": [],
   "source": []
  },
  {
   "cell_type": "markdown",
   "id": "601a790a",
   "metadata": {},
   "source": [
    "### Write a function to get user info first name, last name, gender, id(3 numbers) and save it to a text file\n",
    "## (with using list)"
   ]
  },
  {
   "cell_type": "code",
   "execution_count": 83,
   "id": "e9291ab2",
   "metadata": {},
   "outputs": [],
   "source": [
    "\n",
    "def personal_take(fname,mode):\n",
    "    lines = ['Ahmed\\n','elsousi\\n','male\\n','1234\\n']\n",
    "    with open(fname,mode) as f:\n",
    "        f.writelines(lines)\n",
    "personal_take(\"E:\\\\file1.txt\",\"w\")    \n",
    "\n",
    "\n",
    "      \n",
    "\n",
    "\n",
    "\n",
    "\n",
    "\n"
   ]
  },
  {
   "cell_type": "markdown",
   "id": "3cf8071f",
   "metadata": {},
   "source": [
    "### Write a function to get user info first name, last name, gender, id(3 numbers) and save it to a text file\n",
    "## (with using dictionary)"
   ]
  },
  {
   "cell_type": "code",
   "execution_count": 96,
   "id": "a4b6aeba",
   "metadata": {},
   "outputs": [],
   "source": [
    "\n",
    "def personal_take(fname,mode):\n",
    "    info = { \"fn\": \"Ahmed\\n\" , \"ln\": \"Elsousi\\n\" , \"gender\" : \"male\\n\" , \"ID\" : '123\\n' }\n",
    "    with open(fname,mode) as f:\n",
    "        f.writelines(info.values())\n",
    "personal_take(\"E:\\\\file1.txt\",\"w\")    "
   ]
  },
  {
   "cell_type": "code",
   "execution_count": null,
   "id": "368f68a5",
   "metadata": {},
   "outputs": [],
   "source": []
  }
 ],
 "metadata": {
  "kernelspec": {
   "display_name": "Python 3 (ipykernel)",
   "language": "python",
   "name": "python3"
  },
  "language_info": {
   "codemirror_mode": {
    "name": "ipython",
    "version": 3
   },
   "file_extension": ".py",
   "mimetype": "text/x-python",
   "name": "python",
   "nbconvert_exporter": "python",
   "pygments_lexer": "ipython3",
   "version": "3.9.7"
  }
 },
 "nbformat": 4,
 "nbformat_minor": 5
}
